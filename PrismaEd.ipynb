{
  "nbformat": 4,
  "nbformat_minor": 0,
  "metadata": {
    "colab": {
      "provenance": [],
      "include_colab_link": true
    },
    "kernelspec": {
      "name": "python3",
      "display_name": "Python 3"
    },
    "language_info": {
      "name": "python"
    }
  },
  "cells": [
    {
      "cell_type": "markdown",
      "metadata": {
        "id": "view-in-github",
        "colab_type": "text"
      },
      "source": [
        "<a href=\"https://colab.research.google.com/github/farinazzo4/INFO3-BD2/blob/main/PrismaEd.ipynb\" target=\"_parent\"><img src=\"https://colab.research.google.com/assets/colab-badge.svg\" alt=\"Open In Colab\"/></a>"
      ]
    },
    {
      "cell_type": "code",
      "source": [
        "connection = sqlite3.connect(\"prisma.sqlite\")\n",
        "\n",
        "query = \"\"\"\n",
        "create Table Turma(\n",
        "  Codigo varchar(10) not null  primary key,\n",
        "  Curso varchar(20) not null,\n",
        "  Periodo int not null\n",
        ");\n",
        "\"\"\"\n",
        "execute_query(connection, query)\n",
        "\n",
        "query = \"\"\"\n",
        "create Table Aluno(\n",
        "  RA varchar(7) not null,\n",
        "  CodigoTurma varchar(10) not null,\n",
        "  Nome text not null,\n",
        "  DataNasc date not null,\n",
        "\n",
        "  primary key(RA, CodigoTurma),\n",
        "  foreign key(CodigoTurma) references Turma(Codigo) on delete restrict\n",
        ");\n",
        "\"\"\"\n",
        "execute_query(connection, query)\n",
        "\n",
        "query = \"\"\"\n",
        "create Table ContatoDoAluno(\n",
        "  RAAluno varchar(7) not null primary key,\n",
        "  contato text not null,\n",
        "\n",
        "  foreign key(RAAluno) references Aluno(RA) on delete cascade\n",
        ");\n",
        "\"\"\"\n",
        "execute_query(connection, query)\n",
        "\n",
        "query = \"\"\"\n",
        "create Table Professor(\n",
        "  ID varchar(8) not null primary key\n",
        ");\n",
        "\"\"\"\n",
        "execute_query(connection, query)\n",
        "\n",
        "query = \"\"\"\n",
        "create Table ContatoDoProfessor(\n",
        "  IDProfessor varchar(8) not null primary key,\n",
        "  contato text not null,\n",
        "\n",
        "  foreign key(IDProfessor) references Professor(ID) on delete cascade\n",
        ");\n",
        "\"\"\"\n",
        "execute_query(connection, query)\n",
        "\n",
        "query = \"\"\"\n",
        "create Table ProfessorLecionaEmTurma(\n",
        "  IDProfessor varchar(8) not null,\n",
        "  CodigoTurma varchar(10) not null,\n",
        "  Disciplina text not null,\n",
        "\n",
        "  primary key(IDProfessor, CodigoTurma),\n",
        "  foreign key(IDProfessor) references Professor(ID) on delete restrict,\n",
        "  foreign key(CodigoTurma) references Turma(Codigo) on delete restrict\n",
        ");\n",
        "\"\"\"\n",
        "execute_query(connection, query)\n",
        "\n",
        "query = \"\"\"\n",
        "create Table Questionario(\n",
        "  NumeroRef integer not null primary key autoincrement\n",
        ");\n",
        "\"\"\"\n",
        "execute_query(connection, query)\n",
        "\n",
        "query = \"\"\"\n",
        "create Table AlunoRespondeQuestionario(\n",
        "  RAAluno varchar(7) not null,\n",
        "  NumeroRefQuestionario integer not null,\n",
        "  DataResposta date not null,\n",
        "\n",
        "  primary key(RAAluno, NumeroRefQuestionario),\n",
        "  foreign key(RAAluno) references Aluno(RA) on delete cascade,\n",
        "  foreign key(NumeroRefQuestionario) references Questionario(NumeroRef) on delete restrict\n",
        ");\n",
        "\"\"\"\n",
        "execute_query(connection, query)\n",
        "\n",
        "query = \"INSERT INTO Turma(Codigo, Curso, Periodo) VALUES ('0123456789', 'Informatica','Primeiro Ano');\"\n",
        "execute_query(connection, query)\n",
        "\n",
        "query = \"INSERT INTO Aluno(RA, CodigoTurma, Nome, DataNasc) VALUES ('0123456', '0123456789', 'Maria Lúcia da Silva Rodrigues', '2006-09-17');\"\n",
        "execute_query(connection, query)\n",
        "\n",
        "query = \"INSERT INTO ContatoDoAluno(RAAluno, contato) VALUES ('0123456','nomedoaluno@gmail.com');\"\n",
        "execute_query(connection, query)\n",
        "\n",
        "query = \"INSERT INTO Professor(ID) VALUES ('6543210');\"\n",
        "execute_query(connection, query)\n",
        "\n",
        "query = \"INSERT INTO ContatoDoProfessor(IDProfessor, contato) VALUES ('6543210','nomeprofessor@gmail.com');\"\n",
        "execute_query(connection, query)\n",
        "\n",
        "query = \"INSERT INTO  ProfessorLecionaEmTurma(IDProfessor, CodigoTurma, Disciplina) VALUES ('6543210','0123456789', 'Banco de Dados');\"\n",
        "execute_query(connection, query)\n"
      ],
      "metadata": {
        "colab": {
          "base_uri": "https://localhost:8080/",
          "height": 211
        },
        "id": "7w7mx7LstTBf",
        "outputId": "9b443496-44ae-4fe6-a735-a9d12678ee6a"
      },
      "execution_count": null,
      "outputs": [
        {
          "output_type": "error",
          "ename": "NameError",
          "evalue": "name 'sqlite3' is not defined",
          "traceback": [
            "\u001b[0;31m---------------------------------------------------------------------------\u001b[0m",
            "\u001b[0;31mNameError\u001b[0m                                 Traceback (most recent call last)",
            "\u001b[0;32m/tmp/ipython-input-4220569446.py\u001b[0m in \u001b[0;36m<cell line: 0>\u001b[0;34m()\u001b[0m\n\u001b[0;32m----> 1\u001b[0;31m \u001b[0mconnection\u001b[0m \u001b[0;34m=\u001b[0m \u001b[0msqlite3\u001b[0m\u001b[0;34m.\u001b[0m\u001b[0mconnect\u001b[0m\u001b[0;34m(\u001b[0m\u001b[0;34m\"prisma.sqlite\"\u001b[0m\u001b[0;34m)\u001b[0m\u001b[0;34m\u001b[0m\u001b[0;34m\u001b[0m\u001b[0m\n\u001b[0m\u001b[1;32m      2\u001b[0m \u001b[0;34m\u001b[0m\u001b[0m\n\u001b[1;32m      3\u001b[0m query = \"\"\"\n\u001b[1;32m      4\u001b[0m create Table Turma(\n\u001b[1;32m      5\u001b[0m   \u001b[0mCodigo\u001b[0m \u001b[0mvarchar\u001b[0m\u001b[0;34m(\u001b[0m\u001b[0;36m10\u001b[0m\u001b[0;34m)\u001b[0m \u001b[0;32mnot\u001b[0m \u001b[0mnull\u001b[0m  \u001b[0mprimary\u001b[0m \u001b[0mkey\u001b[0m\u001b[0;34m,\u001b[0m\u001b[0;34m\u001b[0m\u001b[0;34m\u001b[0m\u001b[0m\n",
            "\u001b[0;31mNameError\u001b[0m: name 'sqlite3' is not defined"
          ]
        }
      ]
    },
    {
      "cell_type": "markdown",
      "source": [
        "-- ESCREVA AQUI O SELECT 1"
      ],
      "metadata": {
        "id": "s_ULYQJdd3-d"
      }
    },
    {
      "cell_type": "code",
      "source": [
        "SELECT\n",
        "    T.Codigo,\n",
        "    T.Curso,\n",
        "    COUNT(A.RA) AS TotalAlunos\n",
        "FROM\n",
        "    Turma T\n",
        "LEFT JOIN\n",
        "    Aluno A ON T.Codigo = A.CodigoTurma\n",
        "GROUP BY\n",
        "    T.Codigo, T.Curso;"
      ],
      "metadata": {
        "id": "1cD_xSZKd1it"
      },
      "execution_count": null,
      "outputs": []
    },
    {
      "cell_type": "markdown",
      "source": [
        "-- ESCREVA AQUI A CONSULTA 2"
      ],
      "metadata": {
        "id": "qrTFQj5sd908"
      }
    },
    {
      "cell_type": "code",
      "source": [
        "SELECT\n",
        "    P.ID,\n",
        "    C.contato,\n",
        "    COUNT(PLT.CodigoTurma) AS QuantidadeDeTurmas\n",
        "FROM\n",
        "    Professor P\n",
        "JOIN\n",
        "    ProfessorLecionaEmTurma PLT ON P.ID = PLT.IDProfessor\n",
        "JOIN\n",
        "    ContatoDoProfessor C ON P.ID = C.IDProfessor\n",
        "GROUP BY\n",
        "    P.ID, C.contato\n",
        "HAVING\n",
        "    COUNT(PLT.CodigoTurma) > 1;"
      ],
      "metadata": {
        "id": "PQJ37rWAeBWd"
      },
      "execution_count": null,
      "outputs": []
    },
    {
      "cell_type": "markdown",
      "source": [
        "-- ESCREVA AQUI A CONSULTA COM 3 ENTIDADES"
      ],
      "metadata": {
        "id": "NI17wxkZeiKk"
      }
    },
    {
      "cell_type": "code",
      "source": [
        "SELECT\n",
        "    A.Nome AS NomeDoAluno,\n",
        "    A.RA,\n",
        "    T.Curso,\n",
        "    T.Periodo\n",
        "FROM\n",
        "    Aluno A\n",
        "JOIN\n",
        "    Turma T ON A.CodigoTurma = T.Codigo\n",
        "JOIN\n",
        "    ProfessorLecionaEmTurma PLT ON T.Codigo = PLT.CodigoTurma\n",
        "WHERE\n",
        "    PLT.IDProfessor = '6543210';"
      ],
      "metadata": {
        "id": "rnKGR2XRefU9"
      },
      "execution_count": null,
      "outputs": []
    },
    {
      "cell_type": "markdown",
      "source": [
        "-- ESCREVA ABAIXO A VIEW"
      ],
      "metadata": {
        "id": "7jAtHvnsfGQL"
      }
    },
    {
      "cell_type": "code",
      "source": [
        "CREATE VIEW VW_DetalhesAlunos AS\n",
        "SELECT\n",
        "    A.RA,\n",
        "    A.Nome,\n",
        "    A.DataNasc,\n",
        "    T.Codigo AS CodigoTurma,\n",
        "    T.Curso,\n",
        "    T.Periodo,\n",
        "    C.contato\n",
        "FROM\n",
        "    Aluno A\n",
        "JOIN\n",
        "    Turma T ON A.CodigoTurma = T.Codigo\n",
        "LEFT JOIN\n",
        "    ContatoDoAluno C ON A.RA = C.RAAluno;\n",
        "\n",
        "\n",
        "-- ESCREVA ABAIXO O SELECT QUE RETORNA TODOS OS ELEMENTOS DA VIEW\n",
        "SELECT * FROM VW_DetalhesAlunos;"
      ],
      "metadata": {
        "id": "90ufRbaOfENU"
      },
      "execution_count": null,
      "outputs": []
    },
    {
      "cell_type": "markdown",
      "source": [
        "## ESCREVA ABAIXO O \"PROCEDURE\""
      ],
      "metadata": {
        "id": "RpuNlqQzfyyf"
      }
    },
    {
      "cell_type": "code",
      "source": [
        "def matricular_aluno(conexao, ra, nome, data_nasc, codigo_turma):\n",
        "    \"\"\"\n",
        "    Executa a lógica de matricular um novo aluno de forma segura e transacional.\n",
        "    \"\"\"\n",
        "    cursor = conexao.cursor()\n",
        "    try:\n",
        "        # 1. Verificar se a turma existe\n",
        "        cursor.execute(\"SELECT Codigo FROM Turma WHERE Codigo = ?\", (codigo_turma,))\n",
        "        if cursor.fetchone() is None:\n",
        "            raise ValueError(f\"Erro: A turma com código '{codigo_turma}' não foi encontrada.\")\n",
        "\n",
        "        # 2. Verificar se o RA já existe\n",
        "        cursor.execute(\"SELECT RA FROM Aluno WHERE RA = ?\", (ra,))\n",
        "        if cursor.fetchone() is not None:\n",
        "            raise ValueError(f\"Erro: O RA '{ra}' já está cadastrado.\")\n",
        "\n",
        "        # 3. Inserir o novo aluno\n",
        "        sql_insert = \"INSERT INTO Aluno (RA, CodigoTurma, Nome, DataNasc) VALUES (?, ?, ?, ?)\"\n",
        "        cursor.execute(sql_insert, (ra, codigo_turma, nome, data_nasc))\n",
        "\n",
        "        # Confirma a transação\n",
        "        conexao.commit()\n",
        "        print(f\"Sucesso: Aluno '{nome}' (RA: {ra}) matriculado na turma '{codigo_turma}'.\")\n",
        "\n",
        "    except Exception as e:\n",
        "        # Desfaz a transação em caso de erro\n",
        "        conexao.rollback()\n",
        "        print(f\"Falha na matrícula: {e}\")\n",
        "    finally:\n",
        "        pass"
      ],
      "metadata": {
        "id": "BDhQmDEpfwWP"
      },
      "execution_count": null,
      "outputs": []
    },
    {
      "cell_type": "markdown",
      "source": [
        "## ESCREVA ABAIXO UMA EXECUÇÃO DA PROCEDURE"
      ],
      "metadata": {
        "id": "MujHKM2Mf5KW"
      }
    },
    {
      "cell_type": "code",
      "source": [
        "# --- Exemplo 1: Matrícula com Sucesso ---\n",
        "print(\"--- Tentativa 1: Matrícula válida ---\")\n",
        "matricular_aluno(connection, '9876543', 'Carlos Souza', '2007-05-20', '0123456789')\n",
        "print(\"-\" * 20)\n",
        "\n",
        "\n",
        "# --- Exemplo 2: Tentativa de matricular em turma que não existe ---\n",
        "print(\"--- Tentativa 2: Turma inválida ---\")\n",
        "matricular_aluno(connection, '1122334', 'Ana Pereira', '2006-11-30', 'TURMA_INEXISTENTE')\n",
        "print(\"-\" * 20)\n",
        "\n",
        "\n",
        "# --- Exemplo 3: Tentativa de matricular com RA duplicado ---\n",
        "print(\"--- Tentativa 3: RA duplicado ---\")\n",
        "# Usando o mesmo RA do aluno inserido no início do notebook\n",
        "matricular_aluno(connection, '0123456', 'Outro Aluno', '2005-01-15', '0123456789')\n",
        "print(\"-\" * 20)"
      ],
      "metadata": {
        "id": "8oFvX5Lrf3PP"
      },
      "execution_count": null,
      "outputs": []
    },
    {
      "cell_type": "markdown",
      "source": [
        "## ESCREVA ABAIXO A FUNCTION"
      ],
      "metadata": {
        "id": "DRWpa4anhf9-"
      }
    },
    {
      "cell_type": "code",
      "source": [
        "import datetime\n",
        "\n",
        "def CalcularIdade(data_nasc_str):\n",
        "    \"\"\"\n",
        "    Calcula a idade a partir de uma data de nascimento em formato de string ('YYYY-MM-DD').\n",
        "    Retorna a idade como um inteiro.\n",
        "    \"\"\"\n",
        "    try:\n",
        "        data_nasc = datetime.datetime.strptime(data_nasc_str, '%Y-%m-%d').date()\n",
        "        hoje = datetime.date.today()\n",
        "        idade = hoje.year - data_nasc.year - ((hoje.month, hoje.day) < (data_nasc.month, data_nasc.day))\n",
        "        return idade\n",
        "    except (ValueError, TypeError):\n",
        "        # Retorna None se a data for inválida ou nula\n",
        "        return None\n",
        "\n",
        "connection.create_function(\"CalcularIdade\", 1, CalcularIdade)\n",
        "\n",
        "\n",
        "## ESCREVA ABAIXO UMA CONSULTA QUE INCLUI A FUNCTION\n",
        "\n",
        "# Agora podemos usar a função 'CalcularIdade' diretamente no SQL.\n",
        "query_com_funcao = \"\"\"\n",
        "SELECT\n",
        "    Nome,\n",
        "    DataNasc,\n",
        "    CalcularIdade(DataNasc) AS Idade\n",
        "FROM\n",
        "    Aluno;\n",
        "\"\"\""
      ],
      "metadata": {
        "id": "mA5KplEyhdse"
      },
      "execution_count": null,
      "outputs": []
    },
    {
      "cell_type": "markdown",
      "source": [
        "-- ATIVIDADE 6"
      ],
      "metadata": {
        "id": "ICqgikuRiN7V"
      }
    },
    {
      "cell_type": "code",
      "source": [
        "-- PRIMEIRO, PRECISAMOS DA TABELA DE LOG. VAMOS CRIÁ-LA:\n",
        "CREATE TABLE IF NOT EXISTS LogAlunoExcluido (\n",
        "    IDLog INTEGER PRIMARY KEY AUTOINCREMENT,\n",
        "    RAAluno VARCHAR(7) NOT NULL,\n",
        "    NomeAluno TEXT,\n",
        "    DataHoraExclusao DATETIME NOT- NULL\n",
        ");\n",
        "\n",
        "\n",
        "-- ## ESCREVA ABAIXO O TRIGGER\n",
        "CREATE TRIGGER TRG_AuditoriaExclusaoAluno\n",
        "AFTER DELETE ON Aluno\n",
        "FOR EACH ROW\n",
        "BEGIN\n",
        "    INSERT INTO LogAlunoExcluido (RAAluno, NomeAluno, DataHoraExclusao)\n",
        "    VALUES (OLD.RA, OLD.Nome, DATETIME('now', 'localtime'));\n",
        "END;\n",
        "\n",
        "\n",
        "-- ## ESCREVA ABAIXO UM COMANDO SQL QUE DISPARA O TRIGGER\n",
        "\n",
        "-- Para este exemplo, vamos primeiro inserir um aluno para poder deletá-lo em seguida.\n",
        "INSERT INTO Aluno(RA, CodigoTurma, Nome, DataNasc) VALUES ('7778889', '0123456789', 'Joana Pires', '2006-03-15');\n",
        "\n",
        "-- Este é o comando que efetivamente dispara o trigger:\n",
        "DELETE FROM Aluno WHERE RA = '7778889';\n",
        "\n",
        "-- Para verificar o resultado, você pode consultar a tabela de log:\n",
        "-- SELECT * FROM LogAlunoExcluido;"
      ],
      "metadata": {
        "id": "43IY47efiLP2"
      },
      "execution_count": null,
      "outputs": []
    }
  ]
}